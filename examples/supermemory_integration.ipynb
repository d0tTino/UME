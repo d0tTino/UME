{
  "cells": [
    {
      "cell_type": "markdown",
      "metadata": {},
      "source": [
        "# SuperMemory Integration"
      ]
    },
    {
      "cell_type": "code",
      "metadata": {},
      "execution_count": null,
      "outputs": [],
      "source": [
        "from ume.integrations.supermemory import SuperMemory\n",
        "client = SuperMemory()"
      ]
    },
    {
      "cell_type": "code",
      "metadata": {},
      "execution_count": null,
      "outputs": [],
      "source": [
        "client.send_events([{\"event_type\": \"CREATE_NODE\", \"timestamp\": 0, \"payload\": {\"node_id\": \"n1\", \"attributes\": {}}}])"
      ]
    },
    {
      "cell_type": "code",
      "metadata": {},
      "execution_count": null,
      "outputs": [],
      "source": [
        "client.recall({\"node_id\": \"n1\"})"
      ]
    }
  ],
  "metadata": {
    "language_info": {
      "name": "python"
    }
  },
  "nbformat": 4,
  "nbformat_minor": 5
}
