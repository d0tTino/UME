{
 "cells": [
  {
   "cell_type": "markdown",
   "metadata": {},
   "source": ["# LangGraph Integration"]
  },
  {
   "cell_type": "code",
   "metadata": {},
   "execution_count": null,
   "outputs": [],
   "source": ["from integrations.langgraph import LangGraph\n", "client = LangGraph()"]
  },
  {
   "cell_type": "code",
   "metadata": {},
   "execution_count": null,
   "outputs": [],
   "source": ["client.send_events([{\"event_type\": \"CREATE_NODE\", \"timestamp\": 0, \"payload\": {\"node_id\": \"n1\", \"attributes\": {}}}])"]
  },
  {
   "cell_type": "code",
   "metadata": {},
   "execution_count": null,
   "outputs": [],
   "source": ["client.recall({\"node_id\": \"n1\"})"]
  }
 ],
 "metadata": {
  "language_info": {
   "name": "python"
  }
 },
 "nbformat": 4,
 "nbformat_minor": 5
}
